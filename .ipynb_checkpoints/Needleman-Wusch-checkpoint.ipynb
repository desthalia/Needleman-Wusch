{
 "cells": [
  {
   "cell_type": "code",
   "execution_count": 1,
   "metadata": {},
   "outputs": [],
   "source": [
    "#Read BLOSUM62 table\n",
    "\n",
    "label = ['A','R','N','D','C','Q','E','G','H','I','L','K','M','F','P','S','T','W','Y','V','B','Z','X','*']\n",
    "blosum = {}\n",
    "f = open(\"BLOSUM62.csv\", \"r\")    \n",
    "for i, line in enumerate(f):\n",
    "    blosum[label[i]] = {}\n",
    "    for j, val in enumerate(line.split(',')):\n",
    "        blosum[label[i]][label[j]] = int(val)        "
   ]
  },
  {
   "cell_type": "code",
   "execution_count": 2,
   "metadata": {},
   "outputs": [],
   "source": [
    "#Input sequence\n",
    "\n",
    "seqA = 'QALVAYA'\n",
    "seqB = 'NALWVAYMA'"
   ]
  },
  {
   "cell_type": "code",
   "execution_count": 3,
   "metadata": {},
   "outputs": [],
   "source": [
    "#Initialize matrix\n",
    "\n",
    "penalty_gap = -6\n",
    "row = len(seqA)\n",
    "col = len(seqB)\n",
    "\n",
    "matrix = [[0 for x in range(col+1)] for y in range(row+1)]\n",
    "\n",
    "for i in range(row+1):\n",
    "    matrix[i][0] = penalty_gap * i\n",
    "\n",
    "for j in range(col+1):\n",
    "    matrix[0][j] = penalty_gap * j"
   ]
  },
  {
   "cell_type": "code",
   "execution_count": 4,
   "metadata": {},
   "outputs": [
    {
     "data": {
      "text/plain": [
       "[[0, -6, -12, -18, -24, -30, -36, -42, -48, -54],\n",
       " [-6, 0, 0, 0, 0, 0, 0, 0, 0, 0],\n",
       " [-12, 0, 0, 0, 0, 0, 0, 0, 0, 0],\n",
       " [-18, 0, 0, 0, 0, 0, 0, 0, 0, 0],\n",
       " [-24, 0, 0, 0, 0, 0, 0, 0, 0, 0],\n",
       " [-30, 0, 0, 0, 0, 0, 0, 0, 0, 0],\n",
       " [-36, 0, 0, 0, 0, 0, 0, 0, 0, 0],\n",
       " [-42, 0, 0, 0, 0, 0, 0, 0, 0, 0]]"
      ]
     },
     "execution_count": 4,
     "metadata": {},
     "output_type": "execute_result"
    }
   ],
   "source": [
    "matrix"
   ]
  },
  {
   "cell_type": "code",
   "execution_count": 5,
   "metadata": {},
   "outputs": [],
   "source": [
    "#Fill the rest\n",
    "\n",
    "for i in range(1, row+1):\n",
    "    for j in range(1, col+1): \n",
    "        delete = matrix[i-1][j] + penalty_gap\n",
    "        insert = matrix[i][j-1] + penalty_gap\n",
    "        match = matrix[i-1][j-1] + blosum[seqA[i-1]][seqB[j-1]]\n",
    "        matrix[i][j] = max(delete, insert, match)"
   ]
  },
  {
   "cell_type": "code",
   "execution_count": 6,
   "metadata": {},
   "outputs": [
    {
     "data": {
      "text/plain": [
       "[[0, -6, -12, -18, -24, -30, -36, -42, -48, -54],\n",
       " [-6, 0, -6, -12, -18, -24, -30, -36, -42, -48],\n",
       " [-12, -6, 4, -2, -8, -14, -20, -26, -32, -38],\n",
       " [-18, -12, -2, 8, 2, -4, -10, -16, -22, -28],\n",
       " [-24, -18, -8, 2, 5, 6, 0, -6, -12, -18],\n",
       " [-30, -24, -14, -4, -1, 5, 10, 4, -2, -8],\n",
       " [-36, -30, -20, -10, -2, -1, 4, 17, 11, 5],\n",
       " [-42, -36, -26, -16, -8, -2, 3, 11, 16, 15]]"
      ]
     },
     "execution_count": 6,
     "metadata": {},
     "output_type": "execute_result"
    }
   ],
   "source": [
    "matrix"
   ]
  },
  {
   "cell_type": "code",
   "execution_count": 21,
   "metadata": {},
   "outputs": [
    {
     "name": "stdout",
     "output_type": "stream",
     "text": [
      "x:  6\n",
      "y:  8\n",
      "A A\n",
      "x:  6\n",
      "y:  7\n",
      "-A MA\n",
      "x:  5\n",
      "y:  6\n",
      "Y-A YMA\n",
      "x:  4\n",
      "y:  5\n",
      "AY-A AYMA\n",
      "x:  3\n",
      "y:  4\n",
      "VAY-A VAYMA\n",
      "x:  3\n",
      "y:  3\n",
      "-VAY-A WVAYMA\n",
      "x:  2\n",
      "y:  2\n",
      "L-VAY-A LWVAYMA\n",
      "x:  1\n",
      "y:  1\n",
      "AL-VAY-A ALWVAYMA\n",
      "x:  0\n",
      "y:  0\n",
      "QAL-VAY-A NALWVAYMA\n"
     ]
    }
   ],
   "source": [
    "newsequence_A = \"\"\n",
    "newsequence_B = \"\"\n",
    "\n",
    "x = row\n",
    "y = col\n",
    "\n",
    "while (x > 0 or y > 0):\n",
    "    if (x > 0 and y > 0 and matrix[x][y] == matrix[x-1][y-1] + blosum[seqA[x-1]][seqB[y-1]]):\n",
    "        x = x-1\n",
    "        y = y-1\n",
    "        newsequence_A = seqA[x] + newsequence_A\n",
    "        newsequence_B = seqB[y] + newsequence_B\n",
    "    elif (x > 0 and matrix[x][y] == matrix[x-1][y] + penalty_gap):\n",
    "        x = x-1\n",
    "        newsequence_B = \"-\" + newsequence_B        \n",
    "        newsequence_A = seqA[x] + newsequence_A\n",
    "    elif (y > 0 and matrix[x][y-1] + penalty_gap):        \n",
    "        y = y-1\n",
    "        newsequence_B = seqB[y] + newsequence_B\n",
    "        newsequence_A = \"-\" + newsequence_A"
   ]
  },
  {
   "cell_type": "code",
   "execution_count": 22,
   "metadata": {},
   "outputs": [
    {
     "name": "stdout",
     "output_type": "stream",
     "text": [
      "Distance: 15\n",
      "QAL-VAY-A\n",
      "NALWVAYMA\n"
     ]
    }
   ],
   "source": [
    "print(\"Distance:\", matrix[row][col])\n",
    "print(newsequence_A)\n",
    "print(newsequence_B)"
   ]
  },
  {
   "cell_type": "code",
   "execution_count": null,
   "metadata": {},
   "outputs": [],
   "source": []
  },
  {
   "cell_type": "code",
   "execution_count": null,
   "metadata": {},
   "outputs": [],
   "source": []
  }
 ],
 "metadata": {
  "kernelspec": {
   "display_name": "Python 3",
   "language": "python",
   "name": "python3"
  },
  "language_info": {
   "codemirror_mode": {
    "name": "ipython",
    "version": 3
   },
   "file_extension": ".py",
   "mimetype": "text/x-python",
   "name": "python",
   "nbconvert_exporter": "python",
   "pygments_lexer": "ipython3",
   "version": "3.6.4"
  }
 },
 "nbformat": 4,
 "nbformat_minor": 2
}
